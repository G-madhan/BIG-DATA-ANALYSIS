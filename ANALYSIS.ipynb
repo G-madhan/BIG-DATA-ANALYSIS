{
  "nbformat": 4,
  "nbformat_minor": 0,
  "metadata": {
    "colab": {
      "provenance": []
    },
    "kernelspec": {
      "name": "python3",
      "display_name": "Python 3"
    },
    "language_info": {
      "name": "python"
    }
  },
  "cells": [
    {
      "cell_type": "markdown",
      "source": [
        "***Import pyspark libraries and load the Disney_plus datasets***"
      ],
      "metadata": {
        "id": "jMj2ATBiEKyq"
      }
    },
    {
      "cell_type": "code",
      "source": [
        "from pyspark.sql import SparkSession\n",
        "from pyspark.sql.functions import col, avg, year, month,split, explode, countDistinct\n",
        "\n",
        "# Initialize SparkSession\n",
        "spark = SparkSession.builder.appName(\"DisneyPlusAnalysis\").getOrCreate()\n",
        "\n",
        "# Load the CSV file\n",
        "df = spark.read.csv(\"disney_plus_titles.csv\", header=True, inferSchema=True)\n",
        "\n",
        "# Show the first few rows\n",
        "df.show(5)\n",
        "\n",
        "# Print the schema\n",
        "df.printSchema()\n"
      ],
      "metadata": {
        "colab": {
          "base_uri": "https://localhost:8080/"
        },
        "id": "41SfC1hSAu9I",
        "outputId": "acfa9f2c-58d7-461b-ddb8-72564e0e3ce8"
      },
      "execution_count": 52,
      "outputs": [
        {
          "output_type": "stream",
          "name": "stdout",
          "text": [
            "+-------+-------+--------------------+--------------------+--------------------+--------------------+------------------+------------+------+---------+--------------------+--------------------+\n",
            "|show_id|   type|               title|            director|                cast|             country|        date_added|release_year|rating| duration|           listed_in|         description|\n",
            "+-------+-------+--------------------+--------------------+--------------------+--------------------+------------------+------------+------+---------+--------------------+--------------------+\n",
            "|     s1|  Movie|       A Spark Story|Jason Sterman, Le...|Apthon Corbin, Lo...|                NULL|September 24, 2021|        2021| TV-PG|   88 min|         Documentary|Two Pixar filmmak...|\n",
            "|     s2|  Movie|      Spooky Buddies|        Robert Vince|Tucker Albrizzi, ...|United States, Ca...|September 24, 2021|        2011|     G|   93 min|Comedy, Fantasy, ...|The puppies go on...|\n",
            "|     s3|  Movie|The Fault in Our ...|          Josh Boone|Shailene Woodley,...|       United States|September 24, 2021|        2014| PG-13|  127 min|Coming of Age, Dr...|Hazel and Gus sha...|\n",
            "|     s4|TV Show|     Dog: Impossible|                NULL|        Matt Beisner|       United States|September 22, 2021|        2019| TV-PG|2 Seasons|Animals & Nature,...|Matt Beisner uses...|\n",
            "|     s5|TV Show|Spidey And His Am...|                NULL|Benjamin Valic, L...|       United States|September 22, 2021|        2021|  TV-Y| 1 Season|Action-Adventure,...|Spidey teams up w...|\n",
            "+-------+-------+--------------------+--------------------+--------------------+--------------------+------------------+------------+------+---------+--------------------+--------------------+\n",
            "only showing top 5 rows\n",
            "\n",
            "root\n",
            " |-- show_id: string (nullable = true)\n",
            " |-- type: string (nullable = true)\n",
            " |-- title: string (nullable = true)\n",
            " |-- director: string (nullable = true)\n",
            " |-- cast: string (nullable = true)\n",
            " |-- country: string (nullable = true)\n",
            " |-- date_added: string (nullable = true)\n",
            " |-- release_year: string (nullable = true)\n",
            " |-- rating: string (nullable = true)\n",
            " |-- duration: string (nullable = true)\n",
            " |-- listed_in: string (nullable = true)\n",
            " |-- description: string (nullable = true)\n",
            "\n"
          ]
        }
      ]
    },
    {
      "cell_type": "code",
      "source": [
        "# Show the null counts\n",
        "null_counts = df.select([sum(when(col(c).isNull(), 1).otherwise(0)).alias(c) for c in df.columns])\n",
        "null_counts.show(vertical=True)\n"
      ],
      "metadata": {
        "colab": {
          "base_uri": "https://localhost:8080/"
        },
        "id": "LGA5yRo29Zzy",
        "outputId": "ee4f55cd-26fd-4014-a643-54412e8a8ac4"
      },
      "execution_count": 53,
      "outputs": [
        {
          "output_type": "stream",
          "name": "stdout",
          "text": [
            "-RECORD 0-----------\n",
            " show_id      | 0   \n",
            " type         | 0   \n",
            " title        | 0   \n",
            " director     | 440 \n",
            " cast         | 174 \n",
            " country      | 174 \n",
            " date_added   | 3   \n",
            " release_year | 0   \n",
            " rating       | 2   \n",
            " duration     | 0   \n",
            " listed_in    | 1   \n",
            " description  | 0   \n",
            "\n"
          ]
        }
      ]
    },
    {
      "cell_type": "code",
      "source": [
        "# handling missing and null values\n",
        "df= df.fillna({'title':'Unknown','cast':'Unknown','director': 'Unknown','country': 'Unknown','rating':'0','listed_in':'Unknown','description':'Unknown'})\n"
      ],
      "metadata": {
        "id": "mTfVhobW5zDu"
      },
      "execution_count": 54,
      "outputs": []
    },
    {
      "cell_type": "markdown",
      "source": [
        "**DEMONSTRATE SCALABILITY**"
      ],
      "metadata": {
        "id": "k81TxPTSAymt"
      }
    },
    {
      "cell_type": "code",
      "source": [
        "# Example: Average runtime of movies\n",
        "average_runtime = df.filter(col(\"type\") == \"Movie\").agg(avg(\"duration\")).collect()[0][0]\n",
        "hours = int(average_runtime / 60)\n",
        "remaining_minutes = average_runtime % 60\n",
        "minutes = int(remaining_minutes)\n",
        "seconds = ((remaining_minutes - minutes) * 60)\n",
        "\n",
        "print(f\"Average movie runtime: {hours}hr:{minutes}mins:{seconds}sec\")"
      ],
      "metadata": {
        "colab": {
          "base_uri": "https://localhost:8080/"
        },
        "id": "bzr8pQdx2kvK",
        "outputId": "2e515917-b81d-4e94-c556-2c48bf5d4562"
      },
      "execution_count": 55,
      "outputs": [
        {
          "output_type": "stream",
          "name": "stdout",
          "text": [
            "Average movie runtime: 33hr:40mins:0.0sec\n"
          ]
        }
      ]
    },
    {
      "cell_type": "code",
      "source": [
        "#show top 10 actors and no. of movies acted\n",
        "cast_df = df.filter(col(\"cast\").isNotNull()).withColumn(\"actor\", explode(split(col(\"cast\"), \", \")))\n",
        "actor_counts = cast_df.groupBy(\"actor\").count().orderBy(col(\"count\").desc())\n",
        "actor_counts.show(10)"
      ],
      "metadata": {
        "colab": {
          "base_uri": "https://localhost:8080/"
        },
        "id": "QmViEX6Q237g",
        "outputId": "9f946b38-474d-424a-f65b-950da629f1f0"
      },
      "execution_count": 15,
      "outputs": [
        {
          "output_type": "stream",
          "name": "stdout",
          "text": [
            "+--------------------+-----+\n",
            "|               actor|count|\n",
            "+--------------------+-----+\n",
            "|        Jim Cummings|   32|\n",
            "|         Walt Disney|   18|\n",
            "|Larry the Cable Guy |   17|\n",
            "|      Keith Ferguson|   16|\n",
            "|        Corey Burton|   15|\n",
            "|        Bob Peterson|   15|\n",
            "|        Jeff Bennett|   15|\n",
            "|         Bill Farmer|   15|\n",
            "|        Pinto Colvig|   15|\n",
            "|           Tim Allen|   14|\n",
            "+--------------------+-----+\n",
            "only showing top 10 rows\n",
            "\n"
          ]
        }
      ]
    },
    {
      "cell_type": "code",
      "source": [
        "# Filter for movies and non-null directors\n",
        "movie_directors = df.filter(col(\"type\") == \"Movie\").filter(col(\"director\").isNotNull())\n",
        "\n",
        "# Count movies per director\n",
        "director_movie_counts = movie_directors.groupBy(\"director\").agg(count(\"*\").alias(\"movie_count\")).orderBy(col(\"movie_count\").desc())\n",
        "\n",
        "director_movie_counts.show()"
      ],
      "metadata": {
        "colab": {
          "base_uri": "https://localhost:8080/"
        },
        "id": "p9KR3mMu5RlY",
        "outputId": "637a0f1b-af3c-4f32-a327-8eeefdb8e7d6"
      },
      "execution_count": 51,
      "outputs": [
        {
          "output_type": "stream",
          "name": "stdout",
          "text": [
            "+----------------+-----------+\n",
            "|        director|movie_count|\n",
            "+----------------+-----------+\n",
            "|         Unknown|         63|\n",
            "|     Jack Hannah|         17|\n",
            "|   John Lasseter|         16|\n",
            "|       Paul Hoen|         16|\n",
            "| Charles Nichols|         12|\n",
            "|Robert Stevenson|         12|\n",
            "|    Bob Peterson|         10|\n",
            "|Vincent McEveety|         10|\n",
            "|     James Algar|          9|\n",
            "| Wilfred Jackson|          9|\n",
            "|    Kenny Ortega|          9|\n",
            "|    Norman Tokar|          8|\n",
            "|  Duwayne Dunham|          8|\n",
            "|  Stuart Gillard|          8|\n",
            "|     Jack Kinney|          7|\n",
            "|  Jon Turteltaub|          6|\n",
            "|  Clyde Geronimi|          6|\n",
            "|  Ben Sharpsteen|          6|\n",
            "|  Michael Hegner|          5|\n",
            "|  Chris Columbus|          5|\n",
            "+----------------+-----------+\n",
            "only showing top 20 rows\n",
            "\n"
          ]
        }
      ]
    },
    {
      "cell_type": "code",
      "source": [
        "#stop the spark session.\n",
        "spark.stop()"
      ],
      "metadata": {
        "id": "T3c_tBLG2w2R"
      },
      "execution_count": null,
      "outputs": []
    }
  ]
}